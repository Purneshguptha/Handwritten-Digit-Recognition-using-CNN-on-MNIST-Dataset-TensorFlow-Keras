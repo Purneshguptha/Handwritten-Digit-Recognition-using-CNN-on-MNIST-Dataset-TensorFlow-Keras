{
  "nbformat": 4,
  "nbformat_minor": 0,
  "metadata": {
    "colab": {
      "provenance": []
    },
    "kernelspec": {
      "name": "python3",
      "display_name": "Python 3"
    },
    "language_info": {
      "name": "python"
    }
  },
  "cells": [
    {
      "cell_type": "code",
      "execution_count": null,
      "metadata": {
        "id": "ZHyLlD27vSC2"
      },
      "outputs": [],
      "source": [
        "#MNIST Classification\n",
        "# Import required libraries\n",
        "import tensorflow as tf\n",
        "from tensorflow.keras import layers,models\n",
        "from tensorflow.keras.datasets import mnist\n",
        "from tensorflow.keras.utils import to_categorical\n",
        "import matplotlib.pyplot as plt\n",
        "import numpy as np\n",
        "\n",
        "#Load dataset\n",
        "(x_train,y_train),(x_test,y_test)=mnist.load_data()\n",
        "\n",
        "#Normalize the pixel values\n",
        "x_train = x_train/255.0\n",
        "\n",
        "#Reshape for CNN input\n",
        "x_train = x_train.reshape((-1,28,28,1))\n",
        "x_test = x_test.reshape((-1,28,28,1))\n",
        "\n",
        "#One-hot encode the labels\n",
        "y_train_cat=to_categorical(y_train,10)\n",
        "y_test_cat=to_categorical(y_test,10)\n",
        "\n",
        "#Built the CNN model\n",
        "model = models.Sequential([\n",
        "    layers.Conv2D(32,(3,3),activation='relu',input_shape=(28,28,1)),\n",
        "    layers.MaxPooling2D((2,2)),\n",
        "    layers.Conv2D(64,(3,3),activation='relu'),\n",
        "    layers.MaxPooling2D((2,2)),\n",
        "    layers.Flatten(),\n",
        "    layers.Dense(64,activation='relu'),\n",
        "    layers.Dense(10,activation='softmax')\n",
        "])\n",
        "\n",
        "#Compile the model\n",
        "model.compile(optimizer='adam',\n",
        "              loss='categorical_crossentropy',\n",
        "              metrics=['accuracy']\n",
        "              )\n",
        "\n",
        "#Train the model\n",
        "model.fit(x_train,y_train_cat,epochs=5,validation_split=0.2,batch_size=64)\n",
        "\n",
        "#Evaluate the model\n",
        "test_loss, test_acc=model.evaluate(x_test,y_test_cat)\n",
        "print(f\"Test accuracy: {test_acc:.4f}\")\n",
        "\n",
        "#Predict on test data\n",
        "predictions=model.predict(x_test)\n",
        "predicted_labels=np.argmax(predictions,axis=1)\n",
        "\n",
        "# Visualize predictions for first 10 test images\n",
        "plt.figure(figsize=(12,6))\n",
        "for i in range(10):\n",
        "  plt.subplot(2,5,i+1)\n",
        "  plt.imshow(x_test[i].reshape(28,28), cmap='gray')\n",
        "  plt.title(f\"Predicted: {predicted_labels[i]}\")\n",
        "  plt.axis('off')\n",
        "plt.show()"
      ]
    }
  ]
}